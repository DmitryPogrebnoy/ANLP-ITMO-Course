{
  "nbformat": 4,
  "nbformat_minor": 0,
  "metadata": {
    "kernelspec": {
      "display_name": "Python 3",
      "language": "python",
      "name": "python3"
    },
    "language_info": {
      "codemirror_mode": {
        "name": "ipython",
        "version": 3
      },
      "file_extension": ".py",
      "mimetype": "text/x-python",
      "name": "python",
      "nbconvert_exporter": "python",
      "pygments_lexer": "ipython3",
      "version": "3.8.5"
    },
    "colab": {
      "name": "hw1.ipynb",
      "provenance": []
    }
  },
  "cells": [
    {
      "cell_type": "markdown",
      "metadata": {
        "id": "TEEKQwtYDMUz"
      },
      "source": [
        "**SOFT DEADLINE:** `20.03.2022 23:59 msk` "
      ]
    },
    {
      "cell_type": "markdown",
      "metadata": {
        "id": "g-IAo9sYDMU-"
      },
      "source": [
        "# [5 points] Part 1. Data cleaning"
      ]
    },
    {
      "cell_type": "markdown",
      "metadata": {
        "id": "-SNyjuGjDMU_"
      },
      "source": [
        "The task is to clear the text data of the crawled web-pages from different sites. \n",
        "\n",
        "It is necessary to ensure that the distribution of the 100 most frequent words includes only meaningful words in english language (not particles, conjunctions, prepositions, numbers, tags, symbols)."
      ]
    },
    {
      "cell_type": "markdown",
      "metadata": {
        "id": "TA4VkGl2DMVB"
      },
      "source": [
        "Determine the order of operations below and carry out the appropriate cleaning.\n",
        "\n",
        "1. Remove non-english words\n",
        "1. Remove html-tags (try to do it with regular expression, or play with beautifulsoap library)\n",
        "1. Apply lemmatization / stemming\n",
        "1. Remove stop-words\n",
        "1. Additional processing - At your own initiative, if this helps to obtain a better distribution"
      ]
    },
    {
      "cell_type": "markdown",
      "metadata": {
        "id": "hjLsB9pdDMVC"
      },
      "source": [
        "#### Hints"
      ]
    },
    {
      "cell_type": "markdown",
      "metadata": {
        "id": "mk6ZLncvDMVD"
      },
      "source": [
        "1. To do text processing you may use nltk and re libraries\n",
        "1. and / or any other libraries on your choise"
      ]
    },
    {
      "cell_type": "markdown",
      "metadata": {
        "id": "KCbTa1OiDMVE"
      },
      "source": [
        "#### Data reading"
      ]
    },
    {
      "cell_type": "markdown",
      "metadata": {
        "id": "cXbG649IDMVG"
      },
      "source": [
        "The dataset for this part can be downloaded here: `https://drive.google.com/file/d/1wLwo83J-ikCCZY2RAoYx8NghaSaQ-lBA/view?usp=sharing`"
      ]
    },
    {
      "cell_type": "code",
      "source": [
        "import pandas as pd\n",
        "from google.colab import drive\n",
        "drive.mount('/content/drive/')\n",
        "data = pd.read_csv('/content/drive/My Drive/Colab Notebooks/ANLP/web_sites_data.csv')"
      ],
      "metadata": {
        "colab": {
          "base_uri": "https://localhost:8080/"
        },
        "id": "w6lu9ZGP7Ecc",
        "outputId": "e68003bf-4497-4906-c37d-94163b5342a1"
      },
      "execution_count": 1,
      "outputs": [
        {
          "output_type": "stream",
          "name": "stdout",
          "text": [
            "Mounted at /content/drive/\n"
          ]
        }
      ]
    },
    {
      "cell_type": "code",
      "source": [
        "data.shape"
      ],
      "metadata": {
        "colab": {
          "base_uri": "https://localhost:8080/"
        },
        "id": "8PpBlJFZAYR5",
        "outputId": "b75517a8-627c-4b13-aacf-0085a6069d80"
      },
      "execution_count": 2,
      "outputs": [
        {
          "output_type": "execute_result",
          "data": {
            "text/plain": [
              "(71699, 1)"
            ]
          },
          "metadata": {},
          "execution_count": 2
        }
      ]
    },
    {
      "cell_type": "markdown",
      "metadata": {
        "id": "fGBTg9g4DMVJ"
      },
      "source": [
        "#### Data processing"
      ]
    },
    {
      "cell_type": "code",
      "execution_count": 3,
      "outputs": [
        {
          "output_type": "stream",
          "name": "stdout",
          "text": [
            "[nltk_data] Downloading package stopwords to /root/nltk_data...\n",
            "[nltk_data]   Unzipping corpora/stopwords.zip.\n",
            "[nltk_data] Downloading package wordnet to /root/nltk_data...\n",
            "[nltk_data]   Unzipping corpora/wordnet.zip.\n"
          ]
        },
        {
          "output_type": "execute_result",
          "data": {
            "text/plain": [
              "True"
            ]
          },
          "metadata": {},
          "execution_count": 3
        }
      ],
      "source": [
        "from bs4 import BeautifulSoup\n",
        "import re\n",
        "import nltk\n",
        "from nltk.stem import WordNetLemmatizer\n",
        "from nltk.corpus import stopwords\n",
        "from tqdm import tqdm\n",
        "import numpy as np\n",
        "\n",
        "space_regexp = re.compile(r\"\\s+\")\n",
        "nltk.download(\"stopwords\")\n",
        "nltk.download(\"wordnet\")\n"
      ],
      "metadata": {
        "pycharm": {
          "name": "#%%\n"
        },
        "colab": {
          "base_uri": "https://localhost:8080/"
        },
        "id": "vnZaNfhV7Cwu",
        "outputId": "24b4e957-8271-45a6-de5e-9235f62e0b92"
      }
    },
    {
      "cell_type": "code",
      "source": [
        "clean_data = []\n",
        "stop_words = stopwords.words(\"english\")\n",
        "lemmatizer = WordNetLemmatizer()\n",
        "\n",
        "def clean_text(text):\n",
        "  soup = BeautifulSoup(text, \"lxml\")\n",
        "  for tmp in soup(['style', 'script']):\n",
        "        tmp.decompose()\n",
        "  text = ' '.join(soup.stripped_strings).lower()\n",
        "  text = [lemmatizer.lemmatize(w) for w in text.split() if w.isascii() and w.isalpha() and len(w) > 2 and not w in stop_words]\n",
        "  return np.array(text)\n",
        "\n",
        "for text in tqdm(data.text.values[:20000]):\n",
        "  clean_data.append(clean_text(text))\n",
        "\n",
        "clean_data = np.array(clean_data)"
      ],
      "metadata": {
        "colab": {
          "base_uri": "https://localhost:8080/"
        },
        "id": "TCA_jZ6X77Zv",
        "outputId": "ef3ce61e-fa86-4c26-dd6e-6491664bf0d0"
      },
      "execution_count": 6,
      "outputs": [
        {
          "output_type": "stream",
          "name": "stderr",
          "text": [
            "100%|██████████| 1000/1000 [00:57<00:00, 17.52it/s]\n",
            "/usr/local/lib/python3.7/dist-packages/ipykernel_launcher.py:16: VisibleDeprecationWarning: Creating an ndarray from ragged nested sequences (which is a list-or-tuple of lists-or-tuples-or ndarrays with different lengths or shapes) is deprecated. If you meant to do this, you must specify 'dtype=object' when creating the ndarray.\n",
            "  app.launch_new_instance()\n"
          ]
        }
      ]
    },
    {
      "cell_type": "code",
      "source": [
        "df = pd.DataFrame(clean_data)"
      ],
      "metadata": {
        "id": "sb8Sup7rLL9X"
      },
      "execution_count": 7,
      "outputs": []
    },
    {
      "cell_type": "code",
      "source": [
        "df"
      ],
      "metadata": {
        "colab": {
          "base_uri": "https://localhost:8080/",
          "height": 423
        },
        "id": "qW8lxqiY3ylH",
        "outputId": "351254d7-e9aa-49cd-87c8-dfa95cea1d14"
      },
      "execution_count": 8,
      "outputs": [
        {
          "output_type": "execute_result",
          "data": {
            "text/plain": [
              "                                                     0\n",
              "0    [eric, newby, love, war, apennines, eric, newb...\n",
              "1    [eric, newby, short, walk, hindu, kush, eric, ...\n",
              "2    [william, wordsworth, poetry, unabridged, will...\n",
              "3    [harriet, beecher, stowe, uncle, cabin, harrie...\n",
              "4    [elizabeth, buchan, consider, lily, elizabeth,...\n",
              "..                                                 ...\n",
              "995  [barnes, noble, ireland, david, harpercollins,...\n",
              "996  [barnes, noble, new, naturalist, collins, zond...\n",
              "997  [barnes, noble, new, naturalist, lichen, olive...\n",
              "998  [barnes, noble, lichen, oliver, zondervan, noo...\n",
              "999  [barnes, noble, adventure, natural, world, zon...\n",
              "\n",
              "[1000 rows x 1 columns]"
            ],
            "text/html": [
              "\n",
              "  <div id=\"df-0edfe0f5-a427-4a8f-910a-1e3a9356cb23\">\n",
              "    <div class=\"colab-df-container\">\n",
              "      <div>\n",
              "<style scoped>\n",
              "    .dataframe tbody tr th:only-of-type {\n",
              "        vertical-align: middle;\n",
              "    }\n",
              "\n",
              "    .dataframe tbody tr th {\n",
              "        vertical-align: top;\n",
              "    }\n",
              "\n",
              "    .dataframe thead th {\n",
              "        text-align: right;\n",
              "    }\n",
              "</style>\n",
              "<table border=\"1\" class=\"dataframe\">\n",
              "  <thead>\n",
              "    <tr style=\"text-align: right;\">\n",
              "      <th></th>\n",
              "      <th>0</th>\n",
              "    </tr>\n",
              "  </thead>\n",
              "  <tbody>\n",
              "    <tr>\n",
              "      <th>0</th>\n",
              "      <td>[eric, newby, love, war, apennines, eric, newb...</td>\n",
              "    </tr>\n",
              "    <tr>\n",
              "      <th>1</th>\n",
              "      <td>[eric, newby, short, walk, hindu, kush, eric, ...</td>\n",
              "    </tr>\n",
              "    <tr>\n",
              "      <th>2</th>\n",
              "      <td>[william, wordsworth, poetry, unabridged, will...</td>\n",
              "    </tr>\n",
              "    <tr>\n",
              "      <th>3</th>\n",
              "      <td>[harriet, beecher, stowe, uncle, cabin, harrie...</td>\n",
              "    </tr>\n",
              "    <tr>\n",
              "      <th>4</th>\n",
              "      <td>[elizabeth, buchan, consider, lily, elizabeth,...</td>\n",
              "    </tr>\n",
              "    <tr>\n",
              "      <th>...</th>\n",
              "      <td>...</td>\n",
              "    </tr>\n",
              "    <tr>\n",
              "      <th>995</th>\n",
              "      <td>[barnes, noble, ireland, david, harpercollins,...</td>\n",
              "    </tr>\n",
              "    <tr>\n",
              "      <th>996</th>\n",
              "      <td>[barnes, noble, new, naturalist, collins, zond...</td>\n",
              "    </tr>\n",
              "    <tr>\n",
              "      <th>997</th>\n",
              "      <td>[barnes, noble, new, naturalist, lichen, olive...</td>\n",
              "    </tr>\n",
              "    <tr>\n",
              "      <th>998</th>\n",
              "      <td>[barnes, noble, lichen, oliver, zondervan, noo...</td>\n",
              "    </tr>\n",
              "    <tr>\n",
              "      <th>999</th>\n",
              "      <td>[barnes, noble, adventure, natural, world, zon...</td>\n",
              "    </tr>\n",
              "  </tbody>\n",
              "</table>\n",
              "<p>1000 rows × 1 columns</p>\n",
              "</div>\n",
              "      <button class=\"colab-df-convert\" onclick=\"convertToInteractive('df-0edfe0f5-a427-4a8f-910a-1e3a9356cb23')\"\n",
              "              title=\"Convert this dataframe to an interactive table.\"\n",
              "              style=\"display:none;\">\n",
              "        \n",
              "  <svg xmlns=\"http://www.w3.org/2000/svg\" height=\"24px\"viewBox=\"0 0 24 24\"\n",
              "       width=\"24px\">\n",
              "    <path d=\"M0 0h24v24H0V0z\" fill=\"none\"/>\n",
              "    <path d=\"M18.56 5.44l.94 2.06.94-2.06 2.06-.94-2.06-.94-.94-2.06-.94 2.06-2.06.94zm-11 1L8.5 8.5l.94-2.06 2.06-.94-2.06-.94L8.5 2.5l-.94 2.06-2.06.94zm10 10l.94 2.06.94-2.06 2.06-.94-2.06-.94-.94-2.06-.94 2.06-2.06.94z\"/><path d=\"M17.41 7.96l-1.37-1.37c-.4-.4-.92-.59-1.43-.59-.52 0-1.04.2-1.43.59L10.3 9.45l-7.72 7.72c-.78.78-.78 2.05 0 2.83L4 21.41c.39.39.9.59 1.41.59.51 0 1.02-.2 1.41-.59l7.78-7.78 2.81-2.81c.8-.78.8-2.07 0-2.86zM5.41 20L4 18.59l7.72-7.72 1.47 1.35L5.41 20z\"/>\n",
              "  </svg>\n",
              "      </button>\n",
              "      \n",
              "  <style>\n",
              "    .colab-df-container {\n",
              "      display:flex;\n",
              "      flex-wrap:wrap;\n",
              "      gap: 12px;\n",
              "    }\n",
              "\n",
              "    .colab-df-convert {\n",
              "      background-color: #E8F0FE;\n",
              "      border: none;\n",
              "      border-radius: 50%;\n",
              "      cursor: pointer;\n",
              "      display: none;\n",
              "      fill: #1967D2;\n",
              "      height: 32px;\n",
              "      padding: 0 0 0 0;\n",
              "      width: 32px;\n",
              "    }\n",
              "\n",
              "    .colab-df-convert:hover {\n",
              "      background-color: #E2EBFA;\n",
              "      box-shadow: 0px 1px 2px rgba(60, 64, 67, 0.3), 0px 1px 3px 1px rgba(60, 64, 67, 0.15);\n",
              "      fill: #174EA6;\n",
              "    }\n",
              "\n",
              "    [theme=dark] .colab-df-convert {\n",
              "      background-color: #3B4455;\n",
              "      fill: #D2E3FC;\n",
              "    }\n",
              "\n",
              "    [theme=dark] .colab-df-convert:hover {\n",
              "      background-color: #434B5C;\n",
              "      box-shadow: 0px 1px 3px 1px rgba(0, 0, 0, 0.15);\n",
              "      filter: drop-shadow(0px 1px 2px rgba(0, 0, 0, 0.3));\n",
              "      fill: #FFFFFF;\n",
              "    }\n",
              "  </style>\n",
              "\n",
              "      <script>\n",
              "        const buttonEl =\n",
              "          document.querySelector('#df-0edfe0f5-a427-4a8f-910a-1e3a9356cb23 button.colab-df-convert');\n",
              "        buttonEl.style.display =\n",
              "          google.colab.kernel.accessAllowed ? 'block' : 'none';\n",
              "\n",
              "        async function convertToInteractive(key) {\n",
              "          const element = document.querySelector('#df-0edfe0f5-a427-4a8f-910a-1e3a9356cb23');\n",
              "          const dataTable =\n",
              "            await google.colab.kernel.invokeFunction('convertToInteractive',\n",
              "                                                     [key], {});\n",
              "          if (!dataTable) return;\n",
              "\n",
              "          const docLinkHtml = 'Like what you see? Visit the ' +\n",
              "            '<a target=\"_blank\" href=https://colab.research.google.com/notebooks/data_table.ipynb>data table notebook</a>'\n",
              "            + ' to learn more about interactive tables.';\n",
              "          element.innerHTML = '';\n",
              "          dataTable['output_type'] = 'display_data';\n",
              "          await google.colab.output.renderOutput(dataTable, element);\n",
              "          const docLink = document.createElement('div');\n",
              "          docLink.innerHTML = docLinkHtml;\n",
              "          element.appendChild(docLink);\n",
              "        }\n",
              "      </script>\n",
              "    </div>\n",
              "  </div>\n",
              "  "
            ]
          },
          "metadata": {},
          "execution_count": 8
        }
      ]
    },
    {
      "cell_type": "code",
      "source": [
        "df.to_csv(\"/content/drive/My Drive/Colab Notebooks/ANLP/clean_data.csv\",header=False)"
      ],
      "metadata": {
        "id": "Sss6BQpZLcnT"
      },
      "execution_count": null,
      "outputs": []
    },
    {
      "cell_type": "markdown",
      "metadata": {
        "id": "_h_c-1kBDMVN"
      },
      "source": [
        "#### Vizualization"
      ]
    },
    {
      "cell_type": "markdown",
      "metadata": {
        "id": "HTu83iAWDMVN"
      },
      "source": [
        "As a visualisation, it is necessary to construct a frequency distribution of words (the 100 most common words), sorted by frequency. \n",
        "\n",
        "For visualization purposes we advice you to use plotly, but you are free to choose other libraries"
      ]
    },
    {
      "cell_type": "code",
      "metadata": {
        "id": "bHX6IXcrDMVO"
      },
      "source": [
        "from nltk.probability import FreqDist\n",
        "import numpy as np\n",
        "\n",
        "flatten_data = [item for sublist in clean_data for item in sublist]"
      ],
      "execution_count": null,
      "outputs": []
    },
    {
      "cell_type": "code",
      "source": [
        "from matplotlib.pyplot import figure\n",
        "\n",
        "figure(figsize=(20, 15))\n",
        "\n",
        "fd = FreqDist(flatten_data)\n",
        "fd.plot(100,cumulative=False)"
      ],
      "metadata": {
        "id": "SUDS7-xbH8i5"
      },
      "execution_count": null,
      "outputs": []
    },
    {
      "cell_type": "markdown",
      "source": [
        "Let's remove first top 15 words - they are also stopwords (uncommon)"
      ],
      "metadata": {
        "id": "-_dYSM4ZOFA2"
      }
    },
    {
      "cell_type": "code",
      "source": [
        "top_words = [word for (word, count) in fd.most_common(15)]\n",
        "flatten_data = [word for word in flatten_data if not word in top_words]"
      ],
      "metadata": {
        "id": "LDZXFaLkNpSl"
      },
      "execution_count": null,
      "outputs": []
    },
    {
      "cell_type": "code",
      "source": [
        "figure(figsize=(20, 15))\n",
        "\n",
        "fd = FreqDist(flatten_data)\n",
        "fd.plot(100,cumulative=False)"
      ],
      "metadata": {
        "id": "c9ud-vImN7qX"
      },
      "execution_count": null,
      "outputs": []
    },
    {
      "cell_type": "markdown",
      "metadata": {
        "id": "5ZxcPfLTDMVO"
      },
      "source": [
        "#### Provide examples of processed text (some parts)\n",
        "\n",
        "Is everything all right with the result of cleaning these examples? What kind of information was lost?"
      ]
    },
    {
      "cell_type": "code",
      "metadata": {
        "id": "2BSMfa9lDMVP"
      },
      "source": [
        "clean_data[0]"
      ],
      "execution_count": null,
      "outputs": []
    },
    {
      "cell_type": "code",
      "metadata": {
        "id": "0xn6XK7UDMVP"
      },
      "source": [
        "clean_data[1]"
      ],
      "execution_count": null,
      "outputs": []
    },
    {
      "cell_type": "markdown",
      "source": [
        "With this processing, we lose the forms of words and work only with the initial forms of words. All regular stop words and non-English words are also filtered out."
      ],
      "metadata": {
        "id": "7yYj90VEPRrN"
      }
    },
    {
      "cell_type": "markdown",
      "metadata": {
        "id": "IlSeYg4sDMVQ"
      },
      "source": [
        "# [10 points] Part 2. Duplicates detection. LSH"
      ]
    },
    {
      "cell_type": "markdown",
      "metadata": {
        "id": "ZuMBHSiDDMVR"
      },
      "source": [
        "#### Libraries you can use\n",
        "\n",
        "1. LSH - https://github.com/ekzhu/datasketch\n",
        "1. LSH - https://github.com/mattilyra/LSH\n",
        "1. Any other library on your choise"
      ]
    },
    {
      "cell_type": "markdown",
      "metadata": {
        "id": "uff5aBpgDMVR"
      },
      "source": [
        "1. Detect duplicated text (duplicates do not imply a complete word-to-word match, but texts that may contain a paraphrase, rearrangement of words, sentences)\n",
        "1. Make a plot dependency of duplicates on shingle size (with fixed minhash length) \n",
        "1. Make a plot dependency of duplicates on minhash length (with fixed shingle size)"
      ]
    },
    {
      "cell_type": "code",
      "source": [
        "!pip install datasketch"
      ],
      "metadata": {
        "id": "KosDzIcMqJtI"
      },
      "execution_count": null,
      "outputs": []
    },
    {
      "cell_type": "code",
      "metadata": {
        "id": "QOFZ7AvyDMVS"
      },
      "source": [
        "from datasketch import MinHash, MinHashLSH, LeanMinHash"
      ],
      "execution_count": null,
      "outputs": []
    },
    {
      "cell_type": "code",
      "source": [
        "def ngrams(doc, n):\n",
        "    for i in range(len(doc)- n + 1):\n",
        "      yield \" \".join([t for t in doc[i:i+n]])\n",
        "\n",
        "def unigram_shingles(doc):\n",
        "    return set(doc)\n",
        "\n",
        "def bigram_shingles(doc):\n",
        "    return set(ngrams(doc, 2))\n",
        "\n",
        "def trigram_shingles(doc):\n",
        "    return set(ngrams(doc, 3))\n",
        "\n",
        "def fourgram_shingles(doc):\n",
        "    return set(ngrams(doc, 4))\n",
        "\n",
        "def fivegram_shingles(doc):\n",
        "    return set(ngrams(doc, 5))"
      ],
      "metadata": {
        "id": "9d12S7qAxIiT"
      },
      "execution_count": null,
      "outputs": []
    },
    {
      "cell_type": "code",
      "metadata": {
        "id": "HPonm9U3DMVS"
      },
      "source": [
        "def get_minhash(shingles, num_perm=128):\n",
        "    mh = MinHash(num_perm)\n",
        "    for s in shingles:\n",
        "        mh.update(s.encode('utf8'))\n",
        "    return LeanMinHash(mh)"
      ],
      "execution_count": null,
      "outputs": []
    },
    {
      "cell_type": "code",
      "source": [
        "def compute_dups(shingle_fn, num_perm=128):\n",
        "    dups = set()\n",
        "    mhlsh = MinHashLSH(threshold=0.8, num_perm=num_perm)\n",
        "\n",
        "    for k, doc in tqdm(enumerate(clean_data)):\n",
        "        shingles = shingle_fn(doc)\n",
        "        if len(shingles) == 0:\n",
        "            continue\n",
        "        mh = get_minhash(shingles, num_perm)\n",
        "        mhlsh.insert(k, mh)\n",
        "\n",
        "    for k, doc in tqdm(enumerate(clean_data)):\n",
        "        shingles = shingle_fn(doc)\n",
        "        mh = get_minhash(shingles, num_perm)\n",
        "        potentials = mhlsh.query(mh)\n",
        "        for p in potentials:\n",
        "            if p == k:\n",
        "                continue\n",
        "            dups.add((min(k,p), max(k,p)))\n",
        "    return len(dups)"
      ],
      "metadata": {
        "id": "ODoRRlXTykTW"
      },
      "execution_count": null,
      "outputs": []
    },
    {
      "cell_type": "code",
      "source": [
        "data_for_shingle_size_plot = [compute_dups(unigram_shingles), compute_dups(bigram_shingles), compute_dups(trigram_shingles), compute_dups(fourgram_shingles), compute_dups(fivegram_shingles)]"
      ],
      "metadata": {
        "id": "cBbWJBTJ4Ou9"
      },
      "execution_count": null,
      "outputs": []
    },
    {
      "cell_type": "code",
      "source": [
        "import matplotlib.pyplot as plt\n",
        "  \n",
        "fig = plt.figure(figsize = (10, 5))\n",
        " \n",
        "# creating the bar plot\n",
        "plt.bar(range(1,6), data_for_shingle_size_plot)\n",
        " \n",
        "plt.xlabel(\"Ngram size\")\n",
        "plt.ylabel(\"Detected duplication\")\n",
        "plt.title(\"Detected duplications per Ngram size\")\n",
        "plt.show()"
      ],
      "metadata": {
        "id": "9upUtFiAHpTn"
      },
      "execution_count": null,
      "outputs": []
    },
    {
      "cell_type": "code",
      "source": [
        "data_for_minhash_size_plot = [compute_dups(trigram_shingles, num_perm=32), compute_dups(trigram_shingles, num_perm=64), compute_dups(trigram_shingles, num_perm=128), compute_dups(trigram_shingles, num_perm=256), compute_dups(trigram_shingles, num_perm=512)]"
      ],
      "metadata": {
        "id": "nUWRa3UIHaFu"
      },
      "execution_count": null,
      "outputs": []
    },
    {
      "cell_type": "code",
      "source": [
        "fig = plt.figure(figsize = (10, 5))\n",
        " \n",
        "# creating the bar plot\n",
        "plt.bar(range(1,6), data_for_minhash_size_plot)\n",
        "plt.xticks(range(1,6), [32,64,128,256,512])\n",
        "\n",
        "plt.xlabel(\"MinHash length\")\n",
        "plt.ylabel(\"Detected duplication\")\n",
        "plt.title(\"Detected duplications per MinHash length\")\n",
        "plt.show()"
      ],
      "metadata": {
        "id": "qQizU2RHIlF2"
      },
      "execution_count": null,
      "outputs": []
    },
    {
      "cell_type": "markdown",
      "metadata": {
        "id": "njdTa1daDMVS"
      },
      "source": [
        "# [Optional 10 points] Part 3. Topic model"
      ]
    },
    {
      "cell_type": "markdown",
      "metadata": {
        "id": "4BwJNkn2DMVT"
      },
      "source": [
        "In this part you will learn how to do topic modeling with common tools and assess the resulting quality of the models. "
      ]
    },
    {
      "cell_type": "code",
      "metadata": {
        "id": "l0WcLMhHDMVT"
      },
      "source": [
        "data = pd.read_csv('/content/drive/My Drive/Colab Notebooks/ANLP/data.csv', index_col=\"id\")"
      ],
      "execution_count": 13,
      "outputs": []
    },
    {
      "cell_type": "code",
      "source": [
        "data"
      ],
      "metadata": {
        "colab": {
          "base_uri": "https://localhost:8080/",
          "height": 455
        },
        "id": "Qh0Yv0Ip35Rp",
        "outputId": "9f22a560-fbfa-4c6c-e186-84d9ba3e4f13"
      },
      "execution_count": 14,
      "outputs": [
        {
          "output_type": "execute_result",
          "data": {
            "text/plain": [
              "                                                      text author\n",
              "id                                                               \n",
              "id26305  This process, however, afforded me no means of...    EAP\n",
              "id17569  It never once occurred to me that the fumbling...    HPL\n",
              "id11008  In his left hand was a gold snuff box, from wh...    EAP\n",
              "id27763  How lovely is spring As we looked from Windsor...    MWS\n",
              "id12958  Finding nothing else, not even gold, the Super...    HPL\n",
              "...                                                    ...    ...\n",
              "id17718  I could have fancied, while I looked at it, th...    EAP\n",
              "id08973  The lids clenched themselves together as if in...    EAP\n",
              "id05267  Mais il faut agir that is to say, a Frenchman ...    EAP\n",
              "id17513  For an item of news like this, it strikes us i...    EAP\n",
              "id00393  He laid a gnarled claw on my shoulder, and it ...    HPL\n",
              "\n",
              "[19579 rows x 2 columns]"
            ],
            "text/html": [
              "\n",
              "  <div id=\"df-c1192e08-6ecc-4772-b948-8446116acd77\">\n",
              "    <div class=\"colab-df-container\">\n",
              "      <div>\n",
              "<style scoped>\n",
              "    .dataframe tbody tr th:only-of-type {\n",
              "        vertical-align: middle;\n",
              "    }\n",
              "\n",
              "    .dataframe tbody tr th {\n",
              "        vertical-align: top;\n",
              "    }\n",
              "\n",
              "    .dataframe thead th {\n",
              "        text-align: right;\n",
              "    }\n",
              "</style>\n",
              "<table border=\"1\" class=\"dataframe\">\n",
              "  <thead>\n",
              "    <tr style=\"text-align: right;\">\n",
              "      <th></th>\n",
              "      <th>text</th>\n",
              "      <th>author</th>\n",
              "    </tr>\n",
              "    <tr>\n",
              "      <th>id</th>\n",
              "      <th></th>\n",
              "      <th></th>\n",
              "    </tr>\n",
              "  </thead>\n",
              "  <tbody>\n",
              "    <tr>\n",
              "      <th>id26305</th>\n",
              "      <td>This process, however, afforded me no means of...</td>\n",
              "      <td>EAP</td>\n",
              "    </tr>\n",
              "    <tr>\n",
              "      <th>id17569</th>\n",
              "      <td>It never once occurred to me that the fumbling...</td>\n",
              "      <td>HPL</td>\n",
              "    </tr>\n",
              "    <tr>\n",
              "      <th>id11008</th>\n",
              "      <td>In his left hand was a gold snuff box, from wh...</td>\n",
              "      <td>EAP</td>\n",
              "    </tr>\n",
              "    <tr>\n",
              "      <th>id27763</th>\n",
              "      <td>How lovely is spring As we looked from Windsor...</td>\n",
              "      <td>MWS</td>\n",
              "    </tr>\n",
              "    <tr>\n",
              "      <th>id12958</th>\n",
              "      <td>Finding nothing else, not even gold, the Super...</td>\n",
              "      <td>HPL</td>\n",
              "    </tr>\n",
              "    <tr>\n",
              "      <th>...</th>\n",
              "      <td>...</td>\n",
              "      <td>...</td>\n",
              "    </tr>\n",
              "    <tr>\n",
              "      <th>id17718</th>\n",
              "      <td>I could have fancied, while I looked at it, th...</td>\n",
              "      <td>EAP</td>\n",
              "    </tr>\n",
              "    <tr>\n",
              "      <th>id08973</th>\n",
              "      <td>The lids clenched themselves together as if in...</td>\n",
              "      <td>EAP</td>\n",
              "    </tr>\n",
              "    <tr>\n",
              "      <th>id05267</th>\n",
              "      <td>Mais il faut agir that is to say, a Frenchman ...</td>\n",
              "      <td>EAP</td>\n",
              "    </tr>\n",
              "    <tr>\n",
              "      <th>id17513</th>\n",
              "      <td>For an item of news like this, it strikes us i...</td>\n",
              "      <td>EAP</td>\n",
              "    </tr>\n",
              "    <tr>\n",
              "      <th>id00393</th>\n",
              "      <td>He laid a gnarled claw on my shoulder, and it ...</td>\n",
              "      <td>HPL</td>\n",
              "    </tr>\n",
              "  </tbody>\n",
              "</table>\n",
              "<p>19579 rows × 2 columns</p>\n",
              "</div>\n",
              "      <button class=\"colab-df-convert\" onclick=\"convertToInteractive('df-c1192e08-6ecc-4772-b948-8446116acd77')\"\n",
              "              title=\"Convert this dataframe to an interactive table.\"\n",
              "              style=\"display:none;\">\n",
              "        \n",
              "  <svg xmlns=\"http://www.w3.org/2000/svg\" height=\"24px\"viewBox=\"0 0 24 24\"\n",
              "       width=\"24px\">\n",
              "    <path d=\"M0 0h24v24H0V0z\" fill=\"none\"/>\n",
              "    <path d=\"M18.56 5.44l.94 2.06.94-2.06 2.06-.94-2.06-.94-.94-2.06-.94 2.06-2.06.94zm-11 1L8.5 8.5l.94-2.06 2.06-.94-2.06-.94L8.5 2.5l-.94 2.06-2.06.94zm10 10l.94 2.06.94-2.06 2.06-.94-2.06-.94-.94-2.06-.94 2.06-2.06.94z\"/><path d=\"M17.41 7.96l-1.37-1.37c-.4-.4-.92-.59-1.43-.59-.52 0-1.04.2-1.43.59L10.3 9.45l-7.72 7.72c-.78.78-.78 2.05 0 2.83L4 21.41c.39.39.9.59 1.41.59.51 0 1.02-.2 1.41-.59l7.78-7.78 2.81-2.81c.8-.78.8-2.07 0-2.86zM5.41 20L4 18.59l7.72-7.72 1.47 1.35L5.41 20z\"/>\n",
              "  </svg>\n",
              "      </button>\n",
              "      \n",
              "  <style>\n",
              "    .colab-df-container {\n",
              "      display:flex;\n",
              "      flex-wrap:wrap;\n",
              "      gap: 12px;\n",
              "    }\n",
              "\n",
              "    .colab-df-convert {\n",
              "      background-color: #E8F0FE;\n",
              "      border: none;\n",
              "      border-radius: 50%;\n",
              "      cursor: pointer;\n",
              "      display: none;\n",
              "      fill: #1967D2;\n",
              "      height: 32px;\n",
              "      padding: 0 0 0 0;\n",
              "      width: 32px;\n",
              "    }\n",
              "\n",
              "    .colab-df-convert:hover {\n",
              "      background-color: #E2EBFA;\n",
              "      box-shadow: 0px 1px 2px rgba(60, 64, 67, 0.3), 0px 1px 3px 1px rgba(60, 64, 67, 0.15);\n",
              "      fill: #174EA6;\n",
              "    }\n",
              "\n",
              "    [theme=dark] .colab-df-convert {\n",
              "      background-color: #3B4455;\n",
              "      fill: #D2E3FC;\n",
              "    }\n",
              "\n",
              "    [theme=dark] .colab-df-convert:hover {\n",
              "      background-color: #434B5C;\n",
              "      box-shadow: 0px 1px 3px 1px rgba(0, 0, 0, 0.15);\n",
              "      filter: drop-shadow(0px 1px 2px rgba(0, 0, 0, 0.3));\n",
              "      fill: #FFFFFF;\n",
              "    }\n",
              "  </style>\n",
              "\n",
              "      <script>\n",
              "        const buttonEl =\n",
              "          document.querySelector('#df-c1192e08-6ecc-4772-b948-8446116acd77 button.colab-df-convert');\n",
              "        buttonEl.style.display =\n",
              "          google.colab.kernel.accessAllowed ? 'block' : 'none';\n",
              "\n",
              "        async function convertToInteractive(key) {\n",
              "          const element = document.querySelector('#df-c1192e08-6ecc-4772-b948-8446116acd77');\n",
              "          const dataTable =\n",
              "            await google.colab.kernel.invokeFunction('convertToInteractive',\n",
              "                                                     [key], {});\n",
              "          if (!dataTable) return;\n",
              "\n",
              "          const docLinkHtml = 'Like what you see? Visit the ' +\n",
              "            '<a target=\"_blank\" href=https://colab.research.google.com/notebooks/data_table.ipynb>data table notebook</a>'\n",
              "            + ' to learn more about interactive tables.';\n",
              "          element.innerHTML = '';\n",
              "          dataTable['output_type'] = 'display_data';\n",
              "          await google.colab.output.renderOutput(dataTable, element);\n",
              "          const docLink = document.createElement('div');\n",
              "          docLink.innerHTML = docLinkHtml;\n",
              "          element.appendChild(docLink);\n",
              "        }\n",
              "      </script>\n",
              "    </div>\n",
              "  </div>\n",
              "  "
            ]
          },
          "metadata": {},
          "execution_count": 14
        }
      ]
    },
    {
      "cell_type": "markdown",
      "metadata": {
        "id": "WkNFzxqPDMVU"
      },
      "source": [
        "The provided data contain chunked stories by Edgar Allan Poe (EAP), Mary Shelley (MWS), and HP Lovecraft (HPL).\n",
        "\n",
        "The dataset can be downloaded here: `https://drive.google.com/file/d/14tAjAzHr6UmFVFV7ABTyNHBh-dWHAaLH/view?usp=sharing`"
      ]
    },
    {
      "cell_type": "markdown",
      "metadata": {
        "id": "5BNIa1miDMVU"
      },
      "source": [
        "#### Preprocess dataset with the functions from the Part 1"
      ]
    },
    {
      "cell_type": "code",
      "metadata": {
        "id": "9B8PZNRyDMVV",
        "colab": {
          "base_uri": "https://localhost:8080/"
        },
        "outputId": "af1d1684-94fe-4c45-943b-666ce42165b4"
      },
      "source": [
        "authors = data.author.values\n",
        "authors"
      ],
      "execution_count": 16,
      "outputs": [
        {
          "output_type": "execute_result",
          "data": {
            "text/plain": [
              "array(['EAP', 'HPL', 'EAP', ..., 'EAP', 'EAP', 'HPL'], dtype=object)"
            ]
          },
          "metadata": {},
          "execution_count": 16
        }
      ]
    },
    {
      "cell_type": "code",
      "source": [
        "processed_text = [clean_text(text) for text in data.text.values]\n",
        "processed_text"
      ],
      "metadata": {
        "id": "EKm0FcdJ4hHi"
      },
      "execution_count": null,
      "outputs": []
    },
    {
      "cell_type": "markdown",
      "metadata": {
        "id": "qKU2D29CDMVV"
      },
      "source": [
        "#### Quality estimation"
      ]
    },
    {
      "cell_type": "markdown",
      "metadata": {
        "id": "l6xfd3vpDMVW"
      },
      "source": [
        "Implement the following three quality fuctions: `coherence` (or `tf-idf coherence`), `normalized PMI`, `based on the distributed word representation`(you can use pretrained w2v vectors or some other model). You are free to use any libraries (for instance gensim) and components."
      ]
    },
    {
      "cell_type": "code",
      "metadata": {
        "id": "AEtv-gWcDMVW"
      },
      "source": [
        "from gensim.models.coherencemodel import CoherenceModel\n",
        "from gensim import corpora\n",
        "\n",
        "def coherence_score(topics, texts):\n",
        "   cm = CoherenceModel(topics=topics, texts=texts, dictionary=corpora.Dictionary(X_train), coherence='c_v')\n",
        "   return cm.get_coherence()\n",
        "\n",
        "def nmpi_score(topics, texts):\n",
        "   cm = CoherenceModel(topics=topics, texts=texts, dictionary=corpora.Dictionary(X_train), coherence='c_npmi')\n",
        "   return cm.get_coherence()"
      ],
      "execution_count": 136,
      "outputs": []
    },
    {
      "cell_type": "markdown",
      "metadata": {
        "id": "Kp1jTJmPDMVX"
      },
      "source": [
        "### Topic modeling"
      ]
    },
    {
      "cell_type": "markdown",
      "metadata": {
        "id": "lgbVtgphDMVX"
      },
      "source": [
        "Read and preprocess the dataset, divide it into train and test parts `sklearn.model_selection.train_test_split`. Test part will be used in classification part. For simplicity we do not perform cross-validation here, but you should remember about it."
      ]
    },
    {
      "cell_type": "code",
      "metadata": {
        "id": "_Uh0J_C8DMVY"
      },
      "source": [
        "import sklearn.model_selection"
      ],
      "execution_count": 19,
      "outputs": []
    },
    {
      "cell_type": "code",
      "source": [
        "X_train, X_test, y_train, y_test = sklearn.model_selection.train_test_split(processed_text, authors, test_size=0.2, random_state=42)"
      ],
      "metadata": {
        "id": "2nxQeHhD65Fw"
      },
      "execution_count": 20,
      "outputs": []
    },
    {
      "cell_type": "markdown",
      "metadata": {
        "id": "rNepVz1wDMVY"
      },
      "source": [
        "Plot the histogram of resulting tokens counts in the processed datasets."
      ]
    },
    {
      "cell_type": "code",
      "metadata": {
        "id": "L_7JVEfbDMVZ",
        "colab": {
          "base_uri": "https://localhost:8080/",
          "height": 316
        },
        "outputId": "e2792843-3caa-4255-ffc4-dacd2f5c3936"
      },
      "source": [
        "X_train_length = [len(token_list) for token_list in X_train]\n",
        "pd.DataFrame(X_train_length).hist(bins=100)\n"
      ],
      "execution_count": 28,
      "outputs": [
        {
          "output_type": "execute_result",
          "data": {
            "text/plain": [
              "array([[<matplotlib.axes._subplots.AxesSubplot object at 0x7f994179b9d0>]],\n",
              "      dtype=object)"
            ]
          },
          "metadata": {},
          "execution_count": 28
        },
        {
          "output_type": "display_data",
          "data": {
            "text/plain": [
              "<Figure size 432x288 with 1 Axes>"
            ],
            "image/png": "[encoded data removed]"
          },
          "metadata": {
            "needs_background": "light"
          }
        }
      ]
    },
    {
      "cell_type": "code",
      "source": [
        "X_test_length = [len(token_list) for token_list in X_test]\n",
        "pd.DataFrame(X_test_length).hist(bins=100)"
      ],
      "metadata": {
        "colab": {
          "base_uri": "https://localhost:8080/",
          "height": 316
        },
        "id": "2U5CQ7aD8OEL",
        "outputId": "f0b886c5-0dba-4096-ff4c-592713d78bac"
      },
      "execution_count": 29,
      "outputs": [
        {
          "output_type": "execute_result",
          "data": {
            "text/plain": [
              "array([[<matplotlib.axes._subplots.AxesSubplot object at 0x7f99415522d0>]],\n",
              "      dtype=object)"
            ]
          },
          "metadata": {},
          "execution_count": 29
        },
        {
          "output_type": "display_data",
          "data": {
            "text/plain": [
              "<Figure size 432x288 with 1 Axes>"
            ],
            "image/png": "[encoded data removed]"
          },
          "metadata": {
            "needs_background": "light"
          }
        }
      ]
    },
    {
      "cell_type": "markdown",
      "metadata": {
        "id": "4N86AaGNDMVa"
      },
      "source": [
        "#### NMF"
      ]
    },
    {
      "cell_type": "markdown",
      "metadata": {
        "id": "kPelcAFQDMVa"
      },
      "source": [
        "Implement topic modeling with NMF (you can use `sklearn.decomposition.NMF`) and print out resulting topics. Try to change hyperparameters to better fit the dataset."
      ]
    },
    {
      "cell_type": "code",
      "source": [
        "from sklearn.feature_extraction.text import TfidfVectorizer\n",
        "\n",
        "X_train_uni = [\" \".join(token_list) for token_list in X_train]\n",
        "\n",
        "vectorizer = TfidfVectorizer(max_features=1500, min_df=10, stop_words='english')\n",
        "vectorized_X_train = vectorizer.fit_transform(X_train_uni)\n",
        "words = np.array(vectorizer.get_feature_names_out())"
      ],
      "metadata": {
        "id": "rE9Cbq8RFdPW"
      },
      "execution_count": 58,
      "outputs": []
    },
    {
      "cell_type": "code",
      "source": [
        "from sklearn.decomposition import NMF\n",
        "model = NMF(n_components=3, init='random', random_state=0, max_iter=1000, alpha=0.1, l1_ratio=0.5)\n",
        "W = model.fit_transform(vectorized_X_train)\n",
        "H = model.components_"
      ],
      "metadata": {
        "colab": {
          "base_uri": "https://localhost:8080/"
        },
        "id": "jIuxZOw8Gv0y",
        "outputId": "9c8144d8-877e-4087-9487-182d0023046d"
      },
      "execution_count": 70,
      "outputs": [
        {
          "output_type": "stream",
          "name": "stderr",
          "text": [
            "/usr/local/lib/python3.7/dist-packages/sklearn/decomposition/_nmf.py:1425: FutureWarning: `alpha` was deprecated in version 1.0 and will be removed in 1.2. Use `alpha_W` and `alpha_H` instead\n",
            "  FutureWarning,\n"
          ]
        }
      ]
    },
    {
      "cell_type": "code",
      "source": [
        "import matplotlib.pyplot as plt\n",
        "\n",
        "def plot_top_words(model, feature_names, n_top_words, title):\n",
        "    fig, axes = plt.subplots(3,1, figsize=(7, 7), sharex=True)\n",
        "    axes = axes.flatten()\n",
        "    for topic_idx, topic in enumerate(model.components_):\n",
        "        top_features_ind = topic.argsort()[: -n_top_words - 1 : -1]\n",
        "        top_features = [feature_names[i] for i in top_features_ind]\n",
        "        weights = topic[top_features_ind]\n",
        "\n",
        "        ax = axes[topic_idx]\n",
        "        ax.barh(top_features, weights, height=0.7)\n",
        "        ax.set_title(f\"Topic {topic_idx +1}\", fontdict={\"fontsize\": 10})\n",
        "        ax.invert_yaxis()\n",
        "        ax.tick_params(axis=\"both\", which=\"major\", labelsize=10)\n",
        "        for i in \"top right left\".split():\n",
        "            ax.spines[i].set_visible(False)\n",
        "        fig.suptitle(title, fontsize=20)\n",
        "\n",
        "    plt.subplots_adjust(top=0.90, bottom=0.05, wspace=0.90, hspace=0.3)\n",
        "    plt.show()\n",
        "\n"
      ],
      "metadata": {
        "id": "CdAgQ8rwGujS"
      },
      "execution_count": 79,
      "outputs": []
    },
    {
      "cell_type": "code",
      "source": [
        "plot_top_words(\n",
        "    model,\n",
        "    words,\n",
        "    10,\n",
        "    \"Topics in NMF model\",\n",
        ")"
      ],
      "metadata": {
        "colab": {
          "base_uri": "https://localhost:8080/",
          "height": 517
        },
        "id": "f4ZQps7pHh8x",
        "outputId": "e687ca23-70b4-4e63-bd1f-726ffa3f0f09"
      },
      "execution_count": 80,
      "outputs": [
        {
          "output_type": "display_data",
          "data": {
            "text/plain": [
              "<Figure size 504x504 with 3 Axes>"
            ],
            "image/png": "[encoded data removed]"
          },
          "metadata": {
            "needs_background": "light"
          }
        }
      ]
    },
    {
      "cell_type": "markdown",
      "metadata": {
        "id": "zuaKAGIWDMVb"
      },
      "source": [
        "#### LDA"
      ]
    },
    {
      "cell_type": "markdown",
      "metadata": {
        "id": "PAK_MfQxDMVb"
      },
      "source": [
        "Implement topic modeling with LDA (you can use gensim implementation) and print out resulting topics. Try to change hyperparameters to better fit the dataset."
      ]
    },
    {
      "cell_type": "code",
      "metadata": {
        "id": "fdzopuCJDMVb"
      },
      "source": [
        "from sklearn.feature_extraction.text import CountVectorizer\n",
        "\n",
        "tf_vectorizer = CountVectorizer(max_df=0.95, min_df=2)\n",
        "tf = tf_vectorizer.fit_transform(X_train_uni)"
      ],
      "execution_count": 87,
      "outputs": []
    },
    {
      "cell_type": "code",
      "source": [
        "from sklearn.decomposition import LatentDirichletAllocation\n",
        "lda = LatentDirichletAllocation(\n",
        "    n_components=3,\n",
        "    max_iter=20,\n",
        "    learning_method=\"online\",\n",
        "    learning_offset=10.0,\n",
        "    random_state=0,\n",
        ")"
      ],
      "metadata": {
        "id": "NxjmgA5oUTrA"
      },
      "execution_count": 88,
      "outputs": []
    },
    {
      "cell_type": "code",
      "source": [
        "lda.fit(tf)"
      ],
      "metadata": {
        "colab": {
          "base_uri": "https://localhost:8080/"
        },
        "id": "8KMrx_gxUcEl",
        "outputId": "11f754f1-8b58-49b5-c4cc-092e71f01561"
      },
      "execution_count": 89,
      "outputs": [
        {
          "output_type": "execute_result",
          "data": {
            "text/plain": [
              "LatentDirichletAllocation(learning_method='online', max_iter=20, n_components=3,\n",
              "                          random_state=0)"
            ]
          },
          "metadata": {},
          "execution_count": 89
        }
      ]
    },
    {
      "cell_type": "code",
      "source": [
        "tf_feature_names = tf_vectorizer.get_feature_names_out()\n",
        "plot_top_words(lda, tf_feature_names, 10, \"Topics in LDA model\")"
      ],
      "metadata": {
        "colab": {
          "base_uri": "https://localhost:8080/",
          "height": 517
        },
        "id": "cddZCJj1UeSj",
        "outputId": "47cd8af0-70c0-42a3-e3ba-daf91ea117a0"
      },
      "execution_count": 90,
      "outputs": [
        {
          "output_type": "display_data",
          "data": {
            "text/plain": [
              "<Figure size 504x504 with 3 Axes>"
            ],
            "image/png": "[encoded data removed]"
          },
          "metadata": {
            "needs_background": "light"
          }
        }
      ]
    },
    {
      "cell_type": "markdown",
      "metadata": {
        "id": "vSF6fq0NDMVc"
      },
      "source": [
        "### Additive regularization of topic models "
      ]
    },
    {
      "cell_type": "markdown",
      "metadata": {
        "id": "tVcA4itQDMVc"
      },
      "source": [
        "Implement topic modeling with ARTM. You may use bigartm library (simple installation for linux: pip install bigartm) or TopicNet framework (`https://github.com/machine-intelligence-laboratory/TopicNet`)"
      ]
    },
    {
      "cell_type": "markdown",
      "metadata": {
        "id": "03xhr0PmDMVc"
      },
      "source": [
        "Create artm topic model fit it to the data. Try to change hyperparameters (number of specific and background topics) to better fit the dataset. Play with smoothing and sparsing coefficients (use grid), try to add decorrelator. Print out resulting topics."
      ]
    },
    {
      "cell_type": "code",
      "metadata": {
        "id": "tgv1qIUZDMVc"
      },
      "source": [
        "!pip install bigartm"
      ],
      "execution_count": null,
      "outputs": []
    },
    {
      "cell_type": "code",
      "source": [
        "import artm"
      ],
      "metadata": {
        "id": "mDCA-1pIZxe2"
      },
      "execution_count": 94,
      "outputs": []
    },
    {
      "cell_type": "code",
      "source": [
        "cv = CountVectorizer()\n",
        "n_wd = np.array(cv.fit_transform(X_train_uni).todense()).T\n",
        "vocabulary = cv.get_feature_names_out()\n",
        "\n",
        "batch_vectorizer = artm.BatchVectorizer(data_format='bow_n_wd', n_wd=n_wd, vocabulary=vocabulary)\n",
        "dictionary = batch_vectorizer.dictionary\n"
      ],
      "metadata": {
        "id": "KVjrZluld47X"
      },
      "execution_count": 122,
      "outputs": []
    },
    {
      "cell_type": "code",
      "source": [
        "topic_names = [\"EAP\", \"MWS\", \"HPL\"]\n",
        "\n",
        "grid = [(tau_1,tau_2) for tau_1 in [-0.5,-0.15,0.5] for tau_2 in [1.5e+6,1.5e+5,1.5e+4]]\n",
        "\n",
        "for item in grid:\n",
        "  print(item)\n",
        "  model_artm = artm.ARTM(topic_names=topic_names, num_topics=3, cache_theta=True, dictionary=dictionary,\n",
        "                       scores=[artm.PerplexityScore(name='PerplexityScore', dictionary=dictionary),\n",
        "                               artm.TopTokensScore(name='TopTokensScore', num_tokens=10)], \n",
        "                       regularizers=[artm.SmoothSparseThetaRegularizer(name='SparseTheta', tau=item[0]),\n",
        "                                     artm.DecorrelatorPhiRegularizer(name='DecorrelatorPhi', tau=item[1])])\n",
        "  model_artm.fit_offline(batch_vectorizer, num_collection_passes=25)\n",
        "  for topic_name in model_artm.topic_names:\n",
        "      print(topic_name + ': '),\n",
        "      print(model_artm.score_tracker['TopTokensScore'].last_tokens[topic_name])\n",
        "  print()\n"
      ],
      "metadata": {
        "colab": {
          "base_uri": "https://localhost:8080/"
        },
        "id": "kDd8YsqrY1uA",
        "outputId": "f6c091c6-1a44-49d1-b280-c967c51d095e"
      },
      "execution_count": 124,
      "outputs": [
        {
          "output_type": "stream",
          "name": "stdout",
          "text": [
            "(-0.5, 1500000.0)\n",
            "EAP: \n",
            "['one', 'old', 'made', 'saw', 'first', 'two', 'time', 'would', 'found', 'thing']\n",
            "MWS: \n",
            "['eye', 'could', 'like', 'would', 'still', 'one', 'seemed', 'yet', 'came', 'day']\n",
            "HPL: \n",
            "['upon', 'could', 'would', 'one', 'might', 'never', 'said', 'much', 'must', 'even']\n",
            "\n",
            "(-0.5, 150000.0)\n",
            "EAP: \n",
            "['one', 'old', 'made', 'would', 'first', 'saw', 'two', 'time', 'found', 'thing']\n",
            "MWS: \n",
            "['could', 'one', 'would', 'eye', 'like', 'upon', 'still', 'yet', 'seemed', 'came']\n",
            "HPL: \n",
            "['upon', 'could', 'would', 'one', 'might', 'never', 'said', 'much', 'must', 'even']\n",
            "\n",
            "(-0.5, 15000.0)\n",
            "EAP: \n",
            "['one', 'old', 'made', 'would', 'first', 'saw', 'two', 'time', 'upon', 'found']\n",
            "MWS: \n",
            "['could', 'one', 'would', 'eye', 'like', 'upon', 'still', 'yet', 'seemed', 'came']\n",
            "HPL: \n",
            "['upon', 'could', 'would', 'one', 'might', 'never', 'said', 'much', 'must', 'even']\n",
            "\n",
            "(-0.15, 1500000.0)\n",
            "EAP: \n",
            "['one', 'old', 'first', 'saw', 'made', 'two', 'year', 'found', 'soon', 'time']\n",
            "MWS: \n",
            "['still', 'like', 'eye', 'came', 'left', 'seemed', 'day', 'heart', 'yet', 'many']\n",
            "HPL: \n",
            "['upon', 'could', 'would', 'said', 'never', 'might', 'must', 'see', 'may', 'much']\n",
            "\n",
            "(-0.15, 150000.0)\n",
            "EAP: \n",
            "['one', 'old', 'first', 'made', 'saw', 'two', 'would', 'year', 'time', 'found']\n",
            "MWS: \n",
            "['could', 'like', 'eye', 'still', 'one', 'came', 'left', 'seemed', 'yet', 'would']\n",
            "HPL: \n",
            "['upon', 'could', 'would', 'one', 'said', 'never', 'might', 'must', 'much', 'see']\n",
            "\n",
            "(-0.15, 15000.0)\n",
            "EAP: \n",
            "['one', 'old', 'first', 'made', 'two', 'saw', 'would', 'year', 'time', 'found']\n",
            "MWS: \n",
            "['could', 'like', 'eye', 'still', 'one', 'came', 'left', 'would', 'seemed', 'yet']\n",
            "HPL: \n",
            "['upon', 'could', 'would', 'one', 'said', 'never', 'might', 'must', 'much', 'see']\n",
            "\n",
            "(0.5, 1500000.0)\n",
            "EAP: \n",
            "['one', 'old', 'first', 'made', 'saw', 'found', 'thing', 'two', 'year', 'say']\n",
            "MWS: \n",
            "['like', 'yet', 'seemed', 'eye', 'still', 'day', 'came', 'many', 'house', 'left']\n",
            "HPL: \n",
            "['upon', 'could', 'would', 'might', 'never', 'said', 'thought', 'long', 'little', 'much']\n",
            "\n",
            "(0.5, 150000.0)\n",
            "EAP: \n",
            "['one', 'old', 'first', 'made', 'saw', 'two', 'found', 'time', 'thing', 'year']\n",
            "MWS: \n",
            "['like', 'seemed', 'still', 'eye', 'came', 'yet', 'left', 'many', 'house', 'word']\n",
            "HPL: \n",
            "['upon', 'could', 'would', 'might', 'never', 'said', 'little', 'see', 'shall', 'much']\n",
            "\n",
            "(0.5, 15000.0)\n",
            "EAP: \n",
            "['one', 'old', 'first', 'made', 'saw', 'two', 'found', 'time', 'thing', 'year']\n",
            "MWS: \n",
            "['like', 'seemed', 'still', 'eye', 'came', 'yet', 'left', 'many', 'house', 'one']\n",
            "HPL: \n",
            "['upon', 'could', 'would', 'might', 'never', 'said', 'little', 'one', 'shall', 'see']\n",
            "\n"
          ]
        }
      ]
    },
    {
      "cell_type": "code",
      "source": [
        "model_artm = artm.ARTM(topic_names=topic_names, num_topics=3, cache_theta=True, dictionary=dictionary,\n",
        "                       scores=[artm.PerplexityScore(name='PerplexityScore', dictionary=dictionary),\n",
        "                               artm.TopTokensScore(name='TopTokensScore', num_tokens=10)])\n",
        "model_artm.fit_offline(batch_vectorizer, num_collection_passes=25)"
      ],
      "metadata": {
        "id": "yv64LOBoCUes"
      },
      "execution_count": 147,
      "outputs": []
    },
    {
      "cell_type": "code",
      "source": [
        "model_artm_phi = artm.ARTM(topic_names=topic_names, num_topics=3, cache_theta=True, dictionary=dictionary,\n",
        "                       scores=[artm.PerplexityScore(name='PerplexityScore', dictionary=dictionary),\n",
        "                               artm.TopTokensScore(name='TopTokensScore', num_tokens=10)], \n",
        "                       regularizers=[artm.SmoothSparsePhiRegularizer(name='SparsePhi')])\n",
        "model_artm_phi.fit_offline(batch_vectorizer, num_collection_passes=25)"
      ],
      "metadata": {
        "id": "zWnnxA6vCblH"
      },
      "execution_count": 148,
      "outputs": []
    },
    {
      "cell_type": "code",
      "source": [
        "model_artm_phi_theta = artm.ARTM(topic_names=topic_names, num_topics=3, cache_theta=True, dictionary=dictionary,\n",
        "                       scores=[artm.PerplexityScore(name='PerplexityScore', dictionary=dictionary),\n",
        "                               artm.TopTokensScore(name='TopTokensScore', num_tokens=10)], \n",
        "                       regularizers=[artm.SmoothSparsePhiRegularizer(name='SparsePhi'),\n",
        "                                     artm.SmoothSparseThetaRegularizer(name='SparseTheta')])\n",
        "model_artm_phi_theta.fit_offline(batch_vectorizer, num_collection_passes=25)"
      ],
      "metadata": {
        "id": "ON1M9JgGDmtO"
      },
      "execution_count": 149,
      "outputs": []
    },
    {
      "cell_type": "markdown",
      "metadata": {
        "id": "mteOYV8TDMVd"
      },
      "source": [
        "Write a function to convert new documents to topics probabilities vectors."
      ]
    },
    {
      "cell_type": "code",
      "metadata": {
        "id": "IGkD9YaxDMVd"
      },
      "source": [
        "def doc_to_topic_prob(model_artm, text):\n",
        "  cv = CountVectorizer()\n",
        "  n_wd = np.array(cv.fit_transform(text).todense()).T\n",
        "  vocabulary = cv.get_feature_names_out()\n",
        "\n",
        "  batch_vectorizer = artm.BatchVectorizer(data_format='bow_n_wd', n_wd=n_wd, vocabulary=vocabulary)\n",
        "  dictionary = batch_vectorizer.dictionary \n",
        "  test_theta_matrix = model_artm.transform(batch_vectorizer=batch_vectorizer)\n",
        "  return test_theta_matrix"
      ],
      "execution_count": 119,
      "outputs": []
    },
    {
      "cell_type": "code",
      "source": [
        "doc_to_topic_prob(model_artm, [X_train_uni[1]])"
      ],
      "metadata": {
        "colab": {
          "base_uri": "https://localhost:8080/",
          "height": 143
        },
        "id": "j85q6fB1k9sp",
        "outputId": "21f16ff0-9894-41ae-8a9f-e406725f849c"
      },
      "execution_count": 121,
      "outputs": [
        {
          "output_type": "execute_result",
          "data": {
            "text/plain": [
              "            0\n",
              "EAP  0.313460\n",
              "MWS  0.104913\n",
              "HPL  0.581627"
            ],
            "text/html": [
              "\n",
              "  <div id=\"df-b5ac8c55-d050-499f-b082-2fe4d15b4ba6\">\n",
              "    <div class=\"colab-df-container\">\n",
              "      <div>\n",
              "<style scoped>\n",
              "    .dataframe tbody tr th:only-of-type {\n",
              "        vertical-align: middle;\n",
              "    }\n",
              "\n",
              "    .dataframe tbody tr th {\n",
              "        vertical-align: top;\n",
              "    }\n",
              "\n",
              "    .dataframe thead th {\n",
              "        text-align: right;\n",
              "    }\n",
              "</style>\n",
              "<table border=\"1\" class=\"dataframe\">\n",
              "  <thead>\n",
              "    <tr style=\"text-align: right;\">\n",
              "      <th></th>\n",
              "      <th>0</th>\n",
              "    </tr>\n",
              "  </thead>\n",
              "  <tbody>\n",
              "    <tr>\n",
              "      <th>EAP</th>\n",
              "      <td>0.313460</td>\n",
              "    </tr>\n",
              "    <tr>\n",
              "      <th>MWS</th>\n",
              "      <td>0.104913</td>\n",
              "    </tr>\n",
              "    <tr>\n",
              "      <th>HPL</th>\n",
              "      <td>0.581627</td>\n",
              "    </tr>\n",
              "  </tbody>\n",
              "</table>\n",
              "</div>\n",
              "      <button class=\"colab-df-convert\" onclick=\"convertToInteractive('df-b5ac8c55-d050-499f-b082-2fe4d15b4ba6')\"\n",
              "              title=\"Convert this dataframe to an interactive table.\"\n",
              "              style=\"display:none;\">\n",
              "        \n",
              "  <svg xmlns=\"http://www.w3.org/2000/svg\" height=\"24px\"viewBox=\"0 0 24 24\"\n",
              "       width=\"24px\">\n",
              "    <path d=\"M0 0h24v24H0V0z\" fill=\"none\"/>\n",
              "    <path d=\"M18.56 5.44l.94 2.06.94-2.06 2.06-.94-2.06-.94-.94-2.06-.94 2.06-2.06.94zm-11 1L8.5 8.5l.94-2.06 2.06-.94-2.06-.94L8.5 2.5l-.94 2.06-2.06.94zm10 10l.94 2.06.94-2.06 2.06-.94-2.06-.94-.94-2.06-.94 2.06-2.06.94z\"/><path d=\"M17.41 7.96l-1.37-1.37c-.4-.4-.92-.59-1.43-.59-.52 0-1.04.2-1.43.59L10.3 9.45l-7.72 7.72c-.78.78-.78 2.05 0 2.83L4 21.41c.39.39.9.59 1.41.59.51 0 1.02-.2 1.41-.59l7.78-7.78 2.81-2.81c.8-.78.8-2.07 0-2.86zM5.41 20L4 18.59l7.72-7.72 1.47 1.35L5.41 20z\"/>\n",
              "  </svg>\n",
              "      </button>\n",
              "      \n",
              "  <style>\n",
              "    .colab-df-container {\n",
              "      display:flex;\n",
              "      flex-wrap:wrap;\n",
              "      gap: 12px;\n",
              "    }\n",
              "\n",
              "    .colab-df-convert {\n",
              "      background-color: #E8F0FE;\n",
              "      border: none;\n",
              "      border-radius: 50%;\n",
              "      cursor: pointer;\n",
              "      display: none;\n",
              "      fill: #1967D2;\n",
              "      height: 32px;\n",
              "      padding: 0 0 0 0;\n",
              "      width: 32px;\n",
              "    }\n",
              "\n",
              "    .colab-df-convert:hover {\n",
              "      background-color: #E2EBFA;\n",
              "      box-shadow: 0px 1px 2px rgba(60, 64, 67, 0.3), 0px 1px 3px 1px rgba(60, 64, 67, 0.15);\n",
              "      fill: #174EA6;\n",
              "    }\n",
              "\n",
              "    [theme=dark] .colab-df-convert {\n",
              "      background-color: #3B4455;\n",
              "      fill: #D2E3FC;\n",
              "    }\n",
              "\n",
              "    [theme=dark] .colab-df-convert:hover {\n",
              "      background-color: #434B5C;\n",
              "      box-shadow: 0px 1px 3px 1px rgba(0, 0, 0, 0.15);\n",
              "      filter: drop-shadow(0px 1px 2px rgba(0, 0, 0, 0.3));\n",
              "      fill: #FFFFFF;\n",
              "    }\n",
              "  </style>\n",
              "\n",
              "      <script>\n",
              "        const buttonEl =\n",
              "          document.querySelector('#df-b5ac8c55-d050-499f-b082-2fe4d15b4ba6 button.colab-df-convert');\n",
              "        buttonEl.style.display =\n",
              "          google.colab.kernel.accessAllowed ? 'block' : 'none';\n",
              "\n",
              "        async function convertToInteractive(key) {\n",
              "          const element = document.querySelector('#df-b5ac8c55-d050-499f-b082-2fe4d15b4ba6');\n",
              "          const dataTable =\n",
              "            await google.colab.kernel.invokeFunction('convertToInteractive',\n",
              "                                                     [key], {});\n",
              "          if (!dataTable) return;\n",
              "\n",
              "          const docLinkHtml = 'Like what you see? Visit the ' +\n",
              "            '<a target=\"_blank\" href=https://colab.research.google.com/notebooks/data_table.ipynb>data table notebook</a>'\n",
              "            + ' to learn more about interactive tables.';\n",
              "          element.innerHTML = '';\n",
              "          dataTable['output_type'] = 'display_data';\n",
              "          await google.colab.output.renderOutput(dataTable, element);\n",
              "          const docLink = document.createElement('div');\n",
              "          docLink.innerHTML = docLinkHtml;\n",
              "          element.appendChild(docLink);\n",
              "        }\n",
              "      </script>\n",
              "    </div>\n",
              "  </div>\n",
              "  "
            ]
          },
          "metadata": {},
          "execution_count": 121
        }
      ]
    },
    {
      "cell_type": "markdown",
      "metadata": {
        "id": "SPrNOdMLDMVd"
      },
      "source": [
        "Calculate the quality scores for each model. Make a barplot to compare the quality."
      ]
    },
    {
      "cell_type": "code",
      "metadata": {
        "id": "hQadAQCXDMVd"
      },
      "source": [
        "topics1 = [model_artm.score_tracker['TopTokensScore'].last_tokens[topic_name] for topic_name in model_artm.topic_names]"
      ],
      "execution_count": 151,
      "outputs": []
    },
    {
      "cell_type": "code",
      "source": [
        "topics2 = [model_artm_phi.score_tracker['TopTokensScore'].last_tokens[topic_name] for topic_name in model_artm_phi.topic_names]"
      ],
      "metadata": {
        "id": "jaob7uRj3X7C"
      },
      "execution_count": 152,
      "outputs": []
    },
    {
      "cell_type": "code",
      "source": [
        "topics3 = [model_artm_phi_theta.score_tracker['TopTokensScore'].last_tokens[topic_name] for topic_name in model_artm_phi_theta.topic_names]"
      ],
      "metadata": {
        "id": "LTZq6v5wE-sY"
      },
      "execution_count": 153,
      "outputs": []
    },
    {
      "cell_type": "code",
      "source": [
        "names = ['No', 'Phi', 'Phi & Theta reg']\n",
        "\n",
        "plt.bar(names, [coherence_score(topics1, X_train), coherence_score(topics2, X_train), coherence_score(topics3, X_train)])\n",
        "plt.title(\"coherence\")\n",
        "plt.show()"
      ],
      "metadata": {
        "colab": {
          "base_uri": "https://localhost:8080/",
          "height": 281
        },
        "id": "NgeUQRs7F9CW",
        "outputId": "aec3b307-1032-4a94-d061-45ae41ae08b5"
      },
      "execution_count": 154,
      "outputs": [
        {
          "output_type": "display_data",
          "data": {
            "text/plain": [
              "<Figure size 432x288 with 1 Axes>"
            ],
            "image/png": "[encoded data removed]"
          },
          "metadata": {
            "needs_background": "light"
          }
        }
      ]
    }
  ]
}